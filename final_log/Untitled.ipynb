{
 "cells": [
  {
   "cell_type": "code",
   "execution_count": 13,
   "id": "30081fd8-dccc-4c86-ae54-3542cc99bd88",
   "metadata": {},
   "outputs": [],
   "source": [
    "import pandas as pd\n",
    "import matplotlib.pyplot as plt"
   ]
  },
  {
   "cell_type": "code",
   "execution_count": 20,
   "id": "0dc9a64e-d7c5-4ef5-8aa8-a3347b080cbb",
   "metadata": {},
   "outputs": [],
   "source": [
    "def read_log(file_name):\n",
    "    return pd.read_csv(file_name)\n",
    "redq_log = read_log('./redq_compare.csv')\n",
    "td3_log = read_log('./td3.csv')"
   ]
  },
  {
   "cell_type": "code",
   "execution_count": 21,
   "id": "546b1561-3119-43d6-8326-09e65bc80756",
   "metadata": {},
   "outputs": [
    {
     "name": "stdout",
     "output_type": "stream",
     "text": [
      "        Wall time    Step        Value\n",
      "995  1.624188e+09  581476  1992.761108\n",
      "996  1.624188e+09  582476  1995.071655\n",
      "997  1.624188e+09  586476  1987.967773\n",
      "998  1.624188e+09  588476  1984.061401\n",
      "999  1.624188e+09  591476  2009.911255\n",
      "        Wall time     Step        Value\n",
      "195  1.624171e+09   980000  1713.875244\n",
      "196  1.624171e+09   985000  1788.363770\n",
      "197  1.624171e+09   990000  1865.549194\n",
      "198  1.624171e+09   995000  1909.021240\n",
      "199  1.624171e+09  1000000  1801.018188\n"
     ]
    }
   ],
   "source": [
    "print(redq_log.tail())\n",
    "print(td3_log.tail())"
   ]
  },
  {
   "cell_type": "code",
   "execution_count": 10,
   "id": "ffcbe293-1b7b-406f-9aa1-c5769fbbb86c",
   "metadata": {},
   "outputs": [],
   "source": [
    "steps = min(redq_log.shape[0],td3_log.shape[0])"
   ]
  },
  {
   "cell_type": "code",
   "execution_count": 23,
   "id": "bfa9efa7-0ada-403b-827e-3e1d517b694e",
   "metadata": {},
   "outputs": [
    {
     "data": {
      "text/plain": [
       "[<matplotlib.lines.Line2D at 0x7fe5b70797f0>]"
      ]
     },
     "execution_count": 23,
     "metadata": {},
     "output_type": "execute_result"
    },
    {
     "data": {
      "image/png": "[encoded data removed]",
      "text/plain": [
       "<Figure size 432x288 with 1 Axes>"
      ]
     },
     "metadata": {
      "needs_background": "light"
     },
     "output_type": "display_data"
    }
   ],
   "source": [
    "plt.plot(redq_log['Step'],redq_log['Value'])"
   ]
  },
  {
   "cell_type": "markdown",
   "id": "08396d1d-cba8-42e5-abe8-de6b757e9f29",
   "metadata": {},
   "source": [
    "## REDQ"
   ]
  },
  {
   "cell_type": "code",
   "execution_count": 18,
   "id": "d69bb39a-4a3c-42e4-8dda-0795b70f36f3",
   "metadata": {},
   "outputs": [],
   "source": [
    "redq_test = read_log('redq_m_1_q_2_test.csv')"
   ]
  },
  {
   "cell_type": "code",
   "execution_count": 19,
   "id": "5688d918-2693-477b-b598-2d65aef82bab",
   "metadata": {},
   "outputs": [
    {
     "data": {
      "text/html": [
       "<div>\n",
       "<style scoped>\n",
       "    .dataframe tbody tr th:only-of-type {\n",
       "        vertical-align: middle;\n",
       "    }\n",
       "\n",
       "    .dataframe tbody tr th {\n",
       "        vertical-align: top;\n",
       "    }\n",
       "\n",
       "    .dataframe thead th {\n",
       "        text-align: right;\n",
       "    }\n",
       "</style>\n",
       "<table border=\"1\" class=\"dataframe\">\n",
       "  <thead>\n",
       "    <tr style=\"text-align: right;\">\n",
       "      <th></th>\n",
       "      <th>Wall time</th>\n",
       "      <th>Step</th>\n",
       "      <th>Value</th>\n",
       "    </tr>\n",
       "  </thead>\n",
       "  <tbody>\n",
       "    <tr>\n",
       "      <th>0</th>\n",
       "      <td>1.623667e+09</td>\n",
       "      <td>10</td>\n",
       "      <td>27.846153</td>\n",
       "    </tr>\n",
       "    <tr>\n",
       "      <th>1</th>\n",
       "      <td>1.623667e+09</td>\n",
       "      <td>20</td>\n",
       "      <td>32.747059</td>\n",
       "    </tr>\n",
       "    <tr>\n",
       "      <th>2</th>\n",
       "      <td>1.623667e+09</td>\n",
       "      <td>30</td>\n",
       "      <td>13.001516</td>\n",
       "    </tr>\n",
       "    <tr>\n",
       "      <th>3</th>\n",
       "      <td>1.623667e+09</td>\n",
       "      <td>40</td>\n",
       "      <td>11.850565</td>\n",
       "    </tr>\n",
       "    <tr>\n",
       "      <th>4</th>\n",
       "      <td>1.623667e+09</td>\n",
       "      <td>50</td>\n",
       "      <td>12.084112</td>\n",
       "    </tr>\n",
       "    <tr>\n",
       "      <th>...</th>\n",
       "      <td>...</td>\n",
       "      <td>...</td>\n",
       "      <td>...</td>\n",
       "    </tr>\n",
       "    <tr>\n",
       "      <th>178</th>\n",
       "      <td>1.624048e+09</td>\n",
       "      <td>1790</td>\n",
       "      <td>2074.955811</td>\n",
       "    </tr>\n",
       "    <tr>\n",
       "      <th>179</th>\n",
       "      <td>1.624054e+09</td>\n",
       "      <td>1800</td>\n",
       "      <td>2074.893555</td>\n",
       "    </tr>\n",
       "    <tr>\n",
       "      <th>180</th>\n",
       "      <td>1.624061e+09</td>\n",
       "      <td>1810</td>\n",
       "      <td>2107.899902</td>\n",
       "    </tr>\n",
       "    <tr>\n",
       "      <th>181</th>\n",
       "      <td>1.624069e+09</td>\n",
       "      <td>1820</td>\n",
       "      <td>2119.361572</td>\n",
       "    </tr>\n",
       "    <tr>\n",
       "      <th>182</th>\n",
       "      <td>1.624075e+09</td>\n",
       "      <td>1830</td>\n",
       "      <td>2115.611084</td>\n",
       "    </tr>\n",
       "  </tbody>\n",
       "</table>\n",
       "<p>183 rows × 3 columns</p>\n",
       "</div>"
      ],
      "text/plain": [
       "        Wall time  Step        Value\n",
       "0    1.623667e+09    10    27.846153\n",
       "1    1.623667e+09    20    32.747059\n",
       "2    1.623667e+09    30    13.001516\n",
       "3    1.623667e+09    40    11.850565\n",
       "4    1.623667e+09    50    12.084112\n",
       "..            ...   ...          ...\n",
       "178  1.624048e+09  1790  2074.955811\n",
       "179  1.624054e+09  1800  2074.893555\n",
       "180  1.624061e+09  1810  2107.899902\n",
       "181  1.624069e+09  1820  2119.361572\n",
       "182  1.624075e+09  1830  2115.611084\n",
       "\n",
       "[183 rows x 3 columns]"
      ]
     },
     "execution_count": 19,
     "metadata": {},
     "output_type": "execute_result"
    }
   ],
   "source": [
    "redq_test"
   ]
  },
  {
   "cell_type": "code",
   "execution_count": null,
   "id": "eb67052b-39b0-4c09-913a-1977481bcc4a",
   "metadata": {},
   "outputs": [],
   "source": []
  }
 ],
 "metadata": {
  "kernelspec": {
   "display_name": "Python 3",
   "language": "python",
   "name": "python3"
  },
  "language_info": {
   "codemirror_mode": {
    "name": "ipython",
    "version": 3
   },
   "file_extension": ".py",
   "mimetype": "text/x-python",
   "name": "python",
   "nbconvert_exporter": "python",
   "pygments_lexer": "ipython3",
   "version": "3.8.5"
  }
 },
 "nbformat": 4,
 "nbformat_minor": 5
}
